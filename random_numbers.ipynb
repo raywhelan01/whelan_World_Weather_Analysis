{
 "cells": [
  {
   "cell_type": "code",
   "execution_count": 10,
   "metadata": {},
   "outputs": [],
   "source": [
    "# Import the random module.\n",
    "import random\n",
    "\n",
    "# Import the NumPy module.\n",
    "import numpy as np\n",
    "\n",
    "# Import timeit.\n",
    "import timeit"
   ]
  },
  {
   "cell_type": "code",
   "execution_count": 4,
   "metadata": {},
   "outputs": [
    {
     "data": {
      "text/plain": [
       "[63.82439951696668,\n",
       " 54.57660594765904,\n",
       " 89.91278113387955,\n",
       " -41.534107077349304,\n",
       " 66.48235227617485,\n",
       " 59.643804896413045,\n",
       " 77.22762282364923,\n",
       " 27.878071332320935,\n",
       " 8.24000803066405,\n",
       " 75.17492260656304]"
      ]
     },
     "execution_count": 4,
     "metadata": {},
     "output_type": "execute_result"
    }
   ],
   "source": [
    "x = 1\n",
    "latitudes = []\n",
    "while x < 11:\n",
    "    random_lat = np.random.randint(-90, 90) + np.random.random()\n",
    "    latitudes.append(random_lat)\n",
    "    x += 1\n",
    "\n",
    "latitudes"
   ]
  },
  {
   "cell_type": "code",
   "execution_count": 5,
   "metadata": {},
   "outputs": [
    {
     "data": {
      "text/plain": [
       "array([ 15.47920585,  -1.74561107, -47.23923692, -69.66818872,\n",
       "       -20.27737116,  17.45619207, -65.39326409, -30.26519505,\n",
       "       -44.61574942,  70.82784857,  63.21849434,  55.13149511,\n",
       "       -32.14016635,  58.2746897 , -38.33522916,  23.23581275,\n",
       "       -83.93509186, -53.4444433 ,  32.02958481, -75.43308931,\n",
       "        58.75807647,  -7.18236315, -57.06016708, -16.18884455,\n",
       "        30.34409468, -17.49388485,  77.64036756,  47.91906875,\n",
       "       -32.25436379,  74.35114309,  31.62274986, -34.96778609,\n",
       "       -22.95393948, -21.29197908,  39.64344181, -47.5875232 ,\n",
       "       -68.51368311,  13.22796322, -15.45103992,  80.19997805,\n",
       "        85.29786144, -38.10022403,  -9.10058642, -64.28562583,\n",
       "       -22.9274494 , -72.66496443,  33.10161755,  22.7103572 ,\n",
       "       -14.76080918,  77.66594418])"
      ]
     },
     "execution_count": 5,
     "metadata": {},
     "output_type": "execute_result"
    }
   ],
   "source": [
    "np.random.uniform(-90.000, 90.000, size=50)"
   ]
  },
  {
   "cell_type": "code",
   "execution_count": 8,
   "metadata": {},
   "outputs": [
    {
     "name": "stdout",
     "output_type": "stream",
     "text": [
      "23.7 µs ± 6.74 µs per loop (mean ± std. dev. of 7 runs, 10000 loops each)\n"
     ]
    }
   ],
   "source": [
    "%timeit np.random.uniform(-90.000, 90.000, size=1500)"
   ]
  },
  {
   "cell_type": "code",
   "execution_count": 11,
   "metadata": {},
   "outputs": [
    {
     "name": "stdout",
     "output_type": "stream",
     "text": [
      "2.91 ms ± 109 µs per loop (mean ± std. dev. of 7 runs, 100 loops each)\n"
     ]
    }
   ],
   "source": [
    "def latitudes(x):\n",
    "    latitudes = []\n",
    "    while x < 1501:\n",
    "        random_lat = random.randint(-90, 90) + random.random()\n",
    "        latitudes.append(random_lat)\n",
    "        x += 1\n",
    "    return latitudes\n",
    "# Call the function with x = 1.\n",
    "%timeit latitudes(1)"
   ]
  },
  {
   "cell_type": "code",
   "execution_count": null,
   "metadata": {},
   "outputs": [],
   "source": []
  }
 ],
 "metadata": {
  "kernelspec": {
   "display_name": "PythonData",
   "language": "python",
   "name": "pythondata"
  },
  "language_info": {
   "codemirror_mode": {
    "name": "ipython",
    "version": 3
   },
   "file_extension": ".py",
   "mimetype": "text/x-python",
   "name": "python",
   "nbconvert_exporter": "python",
   "pygments_lexer": "ipython3",
   "version": "3.7.4"
  }
 },
 "nbformat": 4,
 "nbformat_minor": 2
}
