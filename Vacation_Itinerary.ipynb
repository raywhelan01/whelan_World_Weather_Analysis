{
 "cells": [
  {
   "cell_type": "code",
   "execution_count": 40,
   "metadata": {},
   "outputs": [],
   "source": [
    "# Import the dependencies.\n",
    "import pandas as pd\n",
    "import gmaps\n",
    "import gmaps.datasets\n",
    "import requests\n",
    "from ipywidgets.embed import embed_minimal_html\n",
    "\n",
    "# Import the API key.\n",
    "from config import g_key"
   ]
  },
  {
   "cell_type": "code",
   "execution_count": 4,
   "metadata": {},
   "outputs": [],
   "source": [
    "# Configure gmaps to use your Google API key.\n",
    "gmaps.configure(api_key=g_key)"
   ]
  },
  {
   "cell_type": "code",
   "execution_count": 5,
   "metadata": {},
   "outputs": [
    {
     "data": {
      "text/html": [
       "<div>\n",
       "<style scoped>\n",
       "    .dataframe tbody tr th:only-of-type {\n",
       "        vertical-align: middle;\n",
       "    }\n",
       "\n",
       "    .dataframe tbody tr th {\n",
       "        vertical-align: top;\n",
       "    }\n",
       "\n",
       "    .dataframe thead th {\n",
       "        text-align: right;\n",
       "    }\n",
       "</style>\n",
       "<table border=\"1\" class=\"dataframe\">\n",
       "  <thead>\n",
       "    <tr style=\"text-align: right;\">\n",
       "      <th></th>\n",
       "      <th>City_ID</th>\n",
       "      <th>City</th>\n",
       "      <th>Country</th>\n",
       "      <th>Max Temp</th>\n",
       "      <th>Current Description</th>\n",
       "      <th>Lat</th>\n",
       "      <th>Lng</th>\n",
       "      <th>Hotel Name</th>\n",
       "    </tr>\n",
       "  </thead>\n",
       "  <tbody>\n",
       "    <tr>\n",
       "      <th>0</th>\n",
       "      <td>7</td>\n",
       "      <td>Hermanus</td>\n",
       "      <td>ZA</td>\n",
       "      <td>66.99</td>\n",
       "      <td>Overcast clouds</td>\n",
       "      <td>-34.42</td>\n",
       "      <td>19.24</td>\n",
       "      <td>Misty Waves Boutique Hotel</td>\n",
       "    </tr>\n",
       "    <tr>\n",
       "      <th>1</th>\n",
       "      <td>8</td>\n",
       "      <td>Maldonado</td>\n",
       "      <td>UY</td>\n",
       "      <td>69.80</td>\n",
       "      <td>Broken clouds</td>\n",
       "      <td>-34.91</td>\n",
       "      <td>-54.96</td>\n",
       "      <td>Joan Miro Hotel</td>\n",
       "    </tr>\n",
       "    <tr>\n",
       "      <th>2</th>\n",
       "      <td>10</td>\n",
       "      <td>Cape Town</td>\n",
       "      <td>ZA</td>\n",
       "      <td>66.99</td>\n",
       "      <td>Overcast clouds</td>\n",
       "      <td>-33.93</td>\n",
       "      <td>18.42</td>\n",
       "      <td>Southern Sun Waterfront Cape Town</td>\n",
       "    </tr>\n",
       "    <tr>\n",
       "      <th>3</th>\n",
       "      <td>16</td>\n",
       "      <td>Rikitea</td>\n",
       "      <td>PF</td>\n",
       "      <td>73.47</td>\n",
       "      <td>Overcast clouds</td>\n",
       "      <td>-23.12</td>\n",
       "      <td>-134.97</td>\n",
       "      <td>Pension Maro'i</td>\n",
       "    </tr>\n",
       "    <tr>\n",
       "      <th>4</th>\n",
       "      <td>18</td>\n",
       "      <td>Bluff</td>\n",
       "      <td>AU</td>\n",
       "      <td>75.06</td>\n",
       "      <td>Clear sky</td>\n",
       "      <td>-23.58</td>\n",
       "      <td>149.07</td>\n",
       "      <td>Bluff Hotel</td>\n",
       "    </tr>\n",
       "  </tbody>\n",
       "</table>\n",
       "</div>"
      ],
      "text/plain": [
       "   City_ID       City Country  Max Temp Current Description    Lat     Lng  \\\n",
       "0        7   Hermanus      ZA     66.99     Overcast clouds -34.42   19.24   \n",
       "1        8  Maldonado      UY     69.80       Broken clouds -34.91  -54.96   \n",
       "2       10  Cape Town      ZA     66.99     Overcast clouds -33.93   18.42   \n",
       "3       16    Rikitea      PF     73.47     Overcast clouds -23.12 -134.97   \n",
       "4       18      Bluff      AU     75.06           Clear sky -23.58  149.07   \n",
       "\n",
       "                          Hotel Name  \n",
       "0         Misty Waves Boutique Hotel  \n",
       "1                    Joan Miro Hotel  \n",
       "2  Southern Sun Waterfront Cape Town  \n",
       "3                     Pension Maro'i  \n",
       "4                        Bluff Hotel  "
      ]
     },
     "execution_count": 5,
     "metadata": {},
     "output_type": "execute_result"
    }
   ],
   "source": [
    "#Step 2\n",
    "# Store the CSV you saved created in part one into a DataFrame.\n",
    "vacation_cities = pd.read_csv(\"weather_data/WeatherPy_vacation.csv\")\n",
    "vacation_cities.head()"
   ]
  },
  {
   "cell_type": "code",
   "execution_count": 28,
   "metadata": {},
   "outputs": [],
   "source": [
    "#Step 3\n",
    "#Choose 4 cities to create the travel itinerary\n",
    "las_lomas_df = vacation_cities.loc[(vacation_cities[\"City\"] == \"Las Lomas\")]\n",
    "chicama_df = vacation_cities.loc[(vacation_cities[\"City\"] == \"Chicama\")]\n",
    "hualmay_df = vacation_cities.loc[(vacation_cities[\"City\"] == \"Hualmay\")]\n",
    "pisco_df = vacation_cities.loc[(vacation_cities[\"City\"] == \"Pisco\")]\n",
    "\n",
    "peru_df = pd.concat([las_lomas_df, chicama_df, hualmay_df, pisco_df])\n",
    "\n",
    "las_lomas = (las_lomas_df.iloc[0][\"Lat\"], las_lomas_df.iloc[0][\"Lng\"])\n",
    "chicama = (chicama_df.iloc[0][\"Lat\"], chicama_df.iloc[0][\"Lng\"])\n",
    "hualmay = (hualmay_df.iloc[0][\"Lat\"], hualmay_df.iloc[0][\"Lng\"])\n",
    "pisco = (pisco_df.iloc[0][\"Lat\"], pisco_df.iloc[0][\"Lng\"])"
   ]
  },
  {
   "cell_type": "code",
   "execution_count": 45,
   "metadata": {},
   "outputs": [
    {
     "data": {
      "application/vnd.jupyter.widget-view+json": {
       "model_id": "c3abfe16b2ea4c0d9d2ea98e38a6f177",
       "version_major": 2,
       "version_minor": 0
      },
      "text/plain": [
       "Figure(layout=FigureLayout(height='420px'))"
      ]
     },
     "metadata": {},
     "output_type": "display_data"
    }
   ],
   "source": [
    "#Step 4\n",
    "fig = gmaps.figure()\n",
    "peru_vacation = gmaps.directions_layer(\n",
    "    las_lomas, pisco, waypoints = [chicama, hualmay],\n",
    "    travel_mode = 'DRIVING')\n",
    "fig.add_layer(peru_vacation)\n",
    "fig"
   ]
  },
  {
   "cell_type": "code",
   "execution_count": 43,
   "metadata": {},
   "outputs": [],
   "source": [
    "#Step 5\n",
    "#Save the directions layer map\n",
    "embed_minimal_html('weather_data/WeatherPy_travel_map.html', views=[fig])"
   ]
  },
  {
   "cell_type": "code",
   "execution_count": 46,
   "metadata": {},
   "outputs": [
    {
     "data": {
      "application/vnd.jupyter.widget-view+json": {
       "model_id": "14e2ea975cc14d9fb2bc39f0c056ea2d",
       "version_major": 2,
       "version_minor": 0
      },
      "text/plain": [
       "Figure(layout=FigureLayout(height='420px'))"
      ]
     },
     "metadata": {},
     "output_type": "display_data"
    }
   ],
   "source": [
    "#Step 6 & 7\n",
    "info_box_template = \"\"\"\n",
    "<dl>\n",
    "<dt>Hotel Name</dt><dd>{Hotel Name}</dd>\n",
    "<dt>City</dt><dd>{City}</dd>\n",
    "<dt>Country</dt><dd>{Country}</dd>\n",
    "<dt>Current Weather</dt><dd>{Current Description} and {Max Temp} °F</dd>\n",
    "</dl>\n",
    "\"\"\"\n",
    "\n",
    "# Store the DataFrame Row.\n",
    "peru_info = [info_box_template.format(**row) for index, row in peru_df.iterrows()]\n",
    "\n",
    "# Add a heatmap of temperature for the vacation spots and a pop-up marker for each city.\n",
    "locations = peru_df[[\"Lat\", \"Lng\"]]\n",
    "max_temp = peru_df[\"Max Temp\"]\n",
    "fig2 = gmaps.figure(center=(-10, -77), zoom_level=4)\n",
    "marker_layer = gmaps.marker_layer(locations, info_box_content=peru_info)\n",
    "fig2.add_layer(marker_layer)\n",
    "\n",
    "# Call the figure to plot the data.\n",
    "fig2"
   ]
  },
  {
   "cell_type": "code",
   "execution_count": 47,
   "metadata": {},
   "outputs": [],
   "source": [
    "#Step 8\n",
    "#Save the marker layer map\n",
    "embed_minimal_html('weather_data/WeatherPy_travel_map_markers.html', views=[fig2])"
   ]
  }
 ],
 "metadata": {
  "kernelspec": {
   "display_name": "PythonData",
   "language": "python",
   "name": "pythondata"
  },
  "language_info": {
   "codemirror_mode": {
    "name": "ipython",
    "version": 3
   },
   "file_extension": ".py",
   "mimetype": "text/x-python",
   "name": "python",
   "nbconvert_exporter": "python",
   "pygments_lexer": "ipython3",
   "version": "3.7.4"
  }
 },
 "nbformat": 4,
 "nbformat_minor": 2
}
